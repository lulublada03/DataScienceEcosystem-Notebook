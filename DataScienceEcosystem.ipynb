{
 "cells": [
  {
   "cell_type": "markdown",
   "id": "e3a5fbc0-8647-4869-b72d-cf984ec526be",
   "metadata": {},
   "source": [
    "# Data Science Tools and Ecosystem"
   ]
  },
  {
   "cell_type": "markdown",
   "id": "e0cad199-02fc-4ccc-8961-b4c8aaaed6b9",
   "metadata": {},
   "source": [
    "In this notebook, Data Science Tools and Ecosystem are summarized."
   ]
  },
  {
   "cell_type": "markdown",
   "id": "fd71a691-a697-49f2-a3a0-a812742bb644",
   "metadata": {},
   "source": [
    "Some of the popular languages that Data Scientists use are:\n",
    "1. Python\n",
    "2. R\n",
    "3. Julia"
   ]
  },
  {
   "cell_type": "markdown",
   "id": "fe3d7d13-2d48-4fce-9e48-32e31c082fae",
   "metadata": {},
   "source": [
    "Some of the commonly used libraries used by Data Scientists include:\n",
    "1. Pandas\n",
    "2. Numpy\n",
    "3. Ggplot"
   ]
  },
  {
   "cell_type": "markdown",
   "id": "8692c5f4-6f1d-409e-96d0-a482adf1d367",
   "metadata": {},
   "source": [
    "| Data Science Tools | \n",
    "| --- |\n",
    "| Apache Airflow |\n",
    "| Hue |\n",
    "| Rstudio |"
   ]
  },
  {
   "cell_type": "markdown",
   "id": "c488d9f0-6514-48fa-bcf6-14ea382c7c38",
   "metadata": {},
   "source": [
    "### Below are a few examples of evaluating arithmetic expressions in Python"
   ]
  },
  {
   "cell_type": "code",
   "execution_count": 1,
   "id": "32b4274e-953a-4d03-b89f-ad084a63eb56",
   "metadata": {},
   "outputs": [
    {
     "data": {
      "text/plain": [
       "17"
      ]
     },
     "execution_count": 1,
     "metadata": {},
     "output_type": "execute_result"
    }
   ],
   "source": [
    "# This a simple arithmetic expression to mutiply then add integers\n",
    "(3*4)+5"
   ]
  },
  {
   "cell_type": "code",
   "execution_count": 4,
   "id": "f52b9f4d-d52e-4ca0-a102-6e1aa0a66885",
   "metadata": {},
   "outputs": [
    {
     "name": "stdout",
     "output_type": "stream",
     "text": [
      "3.3333333333333335\n",
      "Hours\n"
     ]
    }
   ],
   "source": [
    "# This will convert 200 minutes to hours by diving by 60\n",
    "minutes = (200)\n",
    "hours = minutes/60\n",
    "print(hours)\n",
    "print('Hours')"
   ]
  },
  {
   "cell_type": "markdown",
   "id": "103fcbdf-3591-456c-a0b3-127805df5935",
   "metadata": {},
   "source": [
    "__Objectives:__\n",
    "- List popular languages for Data Science\n",
    "- List commonly used libraries used by Data Scientists\n",
    "- Table open source data science tools\n",
    "- Calculate hoe many hours ate there in 200 minutes\n"
   ]
  },
  {
   "cell_type": "markdown",
   "id": "540bec8f-06f5-4bfe-9c49-4313500e8968",
   "metadata": {},
   "source": [
    "## Author\n",
    "Luana Barbosa Lima Alves de Almeida"
   ]
  },
  {
   "cell_type": "code",
   "execution_count": null,
   "id": "6f0e487a-dce4-43c1-92ae-c5d5b5f23400",
   "metadata": {},
   "outputs": [],
   "source": []
  }
 ],
 "metadata": {
  "kernelspec": {
   "display_name": "Python",
   "language": "python",
   "name": "conda-env-python-py"
  },
  "language_info": {
   "codemirror_mode": {
    "name": "ipython",
    "version": 3
   },
   "file_extension": ".py",
   "mimetype": "text/x-python",
   "name": "python",
   "nbconvert_exporter": "python",
   "pygments_lexer": "ipython3",
   "version": "3.7.12"
  }
 },
 "nbformat": 4,
 "nbformat_minor": 5
}
